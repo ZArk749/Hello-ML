{
 "cells": [
  {
   "cell_type": "code",
   "execution_count": 3,
   "id": "53a47f75",
   "metadata": {},
   "outputs": [],
   "source": [
    "from sklearn.datasets import load_iris\n",
    "iris = load_iris()\n",
    "X = iris.data\n",
    "y = iris.target"
   ]
  },
  {
   "cell_type": "code",
   "execution_count": 1,
   "id": "87ade250",
   "metadata": {},
   "outputs": [],
   "source": [
    "#this method returns:\n",
    "#X_train: a list of tuples from the dataset. Each index groups X values based on kmeans++ similarity\n",
    "#y_train: the corresponding target for each value in X_train\n",
    "\n",
    "def kmeans_test_split(X,y, n_clusters):\n",
    "   \n",
    "    kmeans = KMeans(n_clusters = n_clusters, init = 'k-means++', max_iter = 300, n_init = 10)\n",
    "    y_kmeans = kmeans.fit_predict(X)\n",
    "    \n",
    "    X_train=[]\n",
    "    y_train=[]\n",
    "    \n",
    "    for i in range(n_clusters):\n",
    "        X_train.append(X[y_kmeans == i, :])\n",
    "        y_train.append(y[y_kmeans==i])\n",
    "    \n",
    "    return X_train,y_train\n",
    "    \n",
    "    #please note that I need a second look on thisreviewed as it seems wrong\n",
    "    #also there's some confusion about classification as kmeans gets a random order"
   ]
  },
  {
   "cell_type": "code",
   "execution_count": 24,
   "id": "4c060de9",
   "metadata": {},
   "outputs": [],
   "source": [
    "import numpy as np\n",
    "from sklearn.base import BaseEstimator\n",
    "import matplotlib.pyplot as plt\n",
    "from sklearn.model_selection import train_test_split\n",
    "from sklearn.tree import DecisionTreeClassifier\n",
    "from sklearn.ensemble import VotingClassifier\n",
    "from sklearn.cluster import KMeans\n",
    "\n",
    "class CustomEstimator(BaseEstimator):\n",
    "    \n",
    "    def __init__(self, n_estimators, similarity_method, base_model):\n",
    "        self.n_estimators = n_estimators\n",
    "        self.similarity_method = similarity_method\n",
    "        self.base_model = base_model\n",
    "        \n",
    "    \n",
    "    def fit(self,X,y):\n",
    "        \n",
    "        X_train, y_train = kmeans_test_split(X,y,self.n_estimators)\n",
    "        \n",
    "        est_clf = []\n",
    "        est_names = []\n",
    "                \n",
    "        for i in range(self.n_estimators):\n",
    "            \n",
    "            #each test set is fitted to a different classifier\n",
    "            X_selected = X_train[i]\n",
    "            y_selected = y_train[i]\n",
    "            \n",
    "            #it is possible to expand this by creating another list of different classifiers\n",
    "            est_clf.append(DecisionTreeClassifier(max_depth=2).fit(X_selected, y_selected))\n",
    "            est_names.append(\"model % s\" % i) #necessary for the voting classifier to accept the estimators\n",
    "        \n",
    "        estimators = list(zip(est_names,est_clf))\n",
    "            \n",
    "        \n",
    "        voting_clf = VotingClassifier(estimators = estimators, voting='hard')\n",
    "        self.value_ = voting_clf.fit(X,y)\n",
    "        \n",
    "        return self\n",
    "            \n",
    "    \n",
    "    def predict(self, X):\n",
    "        out = self.value_.predict(X)\n",
    "        return out\n",
    "    \n",
    "    def predict_proba(self):\n",
    "        pass"
   ]
  },
  {
   "cell_type": "code",
   "execution_count": 103,
   "id": "427b4929",
   "metadata": {},
   "outputs": [
    {
     "name": "stdout",
     "output_type": "stream",
     "text": [
      "prediction: [1 0 2 2 2 1 0 0 0 0 0 1 1 0 2 1 0 2 2 1 0 1 1 1 1 1 1 2 1 1] \n",
      "    values: [1 0 2 2 2 1 0 0 0 0 0 1 1 0 2 1 0 1 2 1 0 1 1 1 1 1 2 2 1 1]\n",
      "Accuracy (test set): 0.9333333333333333\n",
      "Accuracy (full set): 0.96\n"
     ]
    }
   ],
   "source": [
    "X_train, X_test, y_train, y_test = train_test_split(X,y, test_size=0.2)\n",
    "a = CustomEstimator(3, 5, 'test')\n",
    "clf = a.fit(X_train,y_train)\n",
    "print(\"prediction:\", a.predict(X_test),\"\\n    values:\",y_test)\n",
    "\n",
    "from sklearn import metrics\n",
    "print(\"Accuracy (test set):\",metrics.accuracy_score(y_test, a.predict(X_test)))\n",
    "print(\"Accuracy (full set):\",metrics.accuracy_score(y, a.predict(X)))\n",
    "      \n",
    "\n",
    "\n"
   ]
  }
 ],
 "metadata": {
  "kernelspec": {
   "display_name": "Python 3 (ipykernel)",
   "language": "python",
   "name": "python3"
  },
  "language_info": {
   "codemirror_mode": {
    "name": "ipython",
    "version": 3
   },
   "file_extension": ".py",
   "mimetype": "text/x-python",
   "name": "python",
   "nbconvert_exporter": "python",
   "pygments_lexer": "ipython3",
   "version": "3.9.5"
  }
 },
 "nbformat": 4,
 "nbformat_minor": 5
}
