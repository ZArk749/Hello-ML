{
 "cells": [
  {
   "cell_type": "code",
   "execution_count": 1,
   "id": "5ee7b951",
   "metadata": {},
   "outputs": [],
   "source": [
    "#https://machinelearningmastery.com/voting-ensembles-with-python/"
   ]
  },
  {
   "cell_type": "code",
   "execution_count": 2,
   "id": "02f264cc",
   "metadata": {},
   "outputs": [],
   "source": [
    "from numpy import mean\n",
    "from numpy import std\n",
    "from sklearn.datasets import make_classification\n",
    "from sklearn.model_selection import cross_val_score\n",
    "from sklearn.model_selection import RepeatedStratifiedKFold\n",
    "from sklearn.svm import SVC\n",
    "from sklearn.ensemble import VotingClassifier\n",
    "from matplotlib import pyplot\n",
    "from sklearn.ensemble import RandomForestClassifier\n",
    " \n",
    "# get the dataset\n",
    "def get_dataset():\n",
    "    X, y = make_classification(n_samples=1000, n_features=20, n_informative=15, n_redundant=5, random_state=2)\n",
    "    return X, y"
   ]
  },
  {
   "cell_type": "code",
   "execution_count": 3,
   "id": "6045265e",
   "metadata": {},
   "outputs": [],
   "source": [
    "#ORIGINAL\n",
    "# get a voting ensemble of models\n",
    "def get_voting():\n",
    "    # define the base models\n",
    "    models = list()\n",
    "    models.append(('svm1', SVC(probability=True, kernel='poly', degree=1)))\n",
    "    models.append(('svm2', SVC(probability=True, kernel='poly', degree=2)))\n",
    "    models.append(('svm3', SVC(probability=True, kernel='poly', degree=3)))\n",
    "    models.append(('svm4', SVC(probability=True, kernel='poly', degree=4)))\n",
    "    models.append(('svm5', SVC(probability=True, kernel='poly', degree=5)))\n",
    "    # define the voting ensemble\n",
    "    ensemble = VotingClassifier(estimators=models, voting='soft')\n",
    "    return ensemble\n",
    " \n",
    "# get a list of models to evaluate\n",
    "def get_models():\n",
    "    models = dict()\n",
    "    models['svm1'] = SVC(probability=True, kernel='poly', degree=1)\n",
    "    models['svm2'] = SVC(probability=True, kernel='poly', degree=2)\n",
    "    models['svm3'] = SVC(probability=True, kernel='poly', degree=3)\n",
    "    models['svm4'] = SVC(probability=True, kernel='poly', degree=4)\n",
    "    models['svm5'] = SVC(probability=True, kernel='poly', degree=5)\n",
    "    models['voting'] = get_voting()\n",
    "    return models"
   ]
  },
  {
   "cell_type": "code",
   "execution_count": 4,
   "id": "ef5c7eb2",
   "metadata": {},
   "outputs": [],
   "source": [
    "#CUSTOM\n",
    "# get a voting ensemble of models\n",
    "from sklearn.tree import DecisionTreeClassifier\n",
    "def get_voting():\n",
    "    # define the base models\n",
    "    models = list()\n",
    "    models.append(('RF1', RandomForestClassifier(n_estimators=500, max_leaf_nodes=16, n_jobs=-1)))\n",
    "    models.append(('RF2', RandomForestClassifier(n_estimators=500, max_leaf_nodes=16, n_jobs=-1)))\n",
    "    models.append(('RF3', RandomForestClassifier(n_estimators=500, max_leaf_nodes=16, n_jobs=-1)))\n",
    "    # define the voting ensemble\n",
    "    ensemble = VotingClassifier(estimators=models, voting='hard')\n",
    "    return ensemble\n",
    " \n",
    "# get a list of models to evaluate\n",
    "def get_models():\n",
    "    models = dict()\n",
    "    models['RF1'] =  RandomForestClassifier(n_estimators=500, max_leaf_nodes=16, n_jobs=-1)\n",
    "    models['RF2'] =  RandomForestClassifier(n_estimators=500, max_leaf_nodes=16, n_jobs=-1)\n",
    "    models['RF3'] =  RandomForestClassifier(n_estimators=500, max_leaf_nodes=16, n_jobs=-1)\n",
    "    models['voting'] = get_voting()\n",
    "    return models"
   ]
  },
  {
   "cell_type": "code",
   "execution_count": 5,
   "id": "4dd6f473",
   "metadata": {},
   "outputs": [
    {
     "name": "stdout",
     "output_type": "stream",
     "text": [
      ">RF1 0.870 (0.038)\n",
      ">RF2 0.870 (0.027)\n",
      ">RF3 0.867 (0.034)\n",
      ">voting 0.867 (0.027)\n"
     ]
    },
    {
     "data": {
      "image/png": "[encoded data removed]",
      "text/plain": [
       "<Figure size 432x288 with 1 Axes>"
      ]
     },
     "metadata": {
      "needs_background": "light"
     },
     "output_type": "display_data"
    }
   ],
   "source": [
    "# evaluate a give model using cross-validation\n",
    "def evaluate_model(model, X, y):\n",
    "    cv = RepeatedStratifiedKFold(n_splits=10, n_repeats=3)\n",
    "    scores = cross_val_score(model, X, y, scoring='accuracy', cv=cv, n_jobs=-1, error_score='raise')\n",
    "    return scores\n",
    " \n",
    "# define dataset\n",
    "X, y = get_dataset()\n",
    "# get the models to evaluate\n",
    "models = get_models()\n",
    "# evaluate the models and store results\n",
    "results, names = list(), list()\n",
    "for name, model in models.items():\n",
    "    scores = evaluate_model(model, X, y)\n",
    "    results.append(scores)\n",
    "    names.append(name)\n",
    "    print('>%s %.3f (%.3f)' % (name, mean(scores), std(scores)))\n",
    "# plot model performance for comparison\n",
    "pyplot.boxplot(results, labels=names, showmeans=True)\n",
    "pyplot.show()"
   ]
  }
 ],
 "metadata": {
  "kernelspec": {
   "display_name": "Python 3 (ipykernel)",
   "language": "python",
   "name": "python3"
  },
  "language_info": {
   "codemirror_mode": {
    "name": "ipython",
    "version": 3
   },
   "file_extension": ".py",
   "mimetype": "text/x-python",
   "name": "python",
   "nbconvert_exporter": "python",
   "pygments_lexer": "ipython3",
   "version": "3.9.5"
  }
 },
 "nbformat": 4,
 "nbformat_minor": 5
}
